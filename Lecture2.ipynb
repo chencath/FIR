{
 "cells": [
  {
   "cell_type": "markdown",
   "metadata": {},
   "source": [
    "# Lecture 2 Data frame, Data input/output"
   ]
  },
  {
   "cell_type": "code",
   "execution_count": null,
   "metadata": {},
   "outputs": [],
   "source": []
  },
  {
   "cell_type": "code",
   "execution_count": 29,
   "metadata": {},
   "outputs": [
    {
     "name": "stdout",
     "output_type": "stream",
     "text": [
      "Requirement already satisfied: numpy in /Users/cathychen/anaconda3/lib/python3.7/site-packages (1.20.1)\r\n"
     ]
    }
   ],
   "source": [
    "!pip install numpy "
   ]
  },
  {
   "cell_type": "code",
   "execution_count": 30,
   "metadata": {},
   "outputs": [
    {
     "name": "stdout",
     "output_type": "stream",
     "text": [
      "Requirement already satisfied: pandas in /Users/cathychen/anaconda3/lib/python3.7/site-packages (1.2.2)\n",
      "Requirement already satisfied: python-dateutil>=2.7.3 in /Users/cathychen/anaconda3/lib/python3.7/site-packages (from pandas) (2.8.1)\n",
      "Requirement already satisfied: pytz>=2017.3 in /Users/cathychen/anaconda3/lib/python3.7/site-packages (from pandas) (2021.1)\n",
      "Requirement already satisfied: numpy>=1.16.5 in /Users/cathychen/anaconda3/lib/python3.7/site-packages (from pandas) (1.20.1)\n",
      "Requirement already satisfied: six>=1.5 in /Users/cathychen/anaconda3/lib/python3.7/site-packages (from python-dateutil>=2.7.3->pandas) (1.15.0)\n"
     ]
    }
   ],
   "source": [
    "!pip install pandas"
   ]
  },
  {
   "cell_type": "code",
   "execution_count": 31,
   "metadata": {},
   "outputs": [
    {
     "name": "stdout",
     "output_type": "stream",
     "text": [
      "    state  year  pop\n",
      "0    Ohio  2000  1.5\n",
      "1    Ohio  2001  1.7\n",
      "2    Ohio  2002  3.6\n",
      "3  Nevada  2001  2.4\n",
      "4  Nevada  2002  2.9\n"
     ]
    }
   ],
   "source": [
    "import pandas as pd\n",
    "data = {'state': ['Ohio', 'Ohio', 'Ohio', 'Nevada', 'Nevada'], 'year': [2000, 2001, 2002, 2001, 2002],\n",
    "'pop': [1.5, 1.7, 3.6, 2.4, 2.9]}\n",
    "frame1 = pd.DataFrame(data)\n",
    "print(frame1)"
   ]
  },
  {
   "cell_type": "code",
   "execution_count": 5,
   "metadata": {},
   "outputs": [
    {
     "name": "stdout",
     "output_type": "stream",
     "text": [
      "   year   state  pop\n",
      "0  2000    Ohio  1.5\n",
      "1  2001    Ohio  1.7\n",
      "2  2002    Ohio  3.6\n",
      "3  2001  Nevada  2.4\n",
      "4  2002  Nevada  2.9\n"
     ]
    }
   ],
   "source": [
    "frame2 = pd.DataFrame(data, columns=['year', 'state', 'pop'])\n",
    "print(frame2)"
   ]
  },
  {
   "cell_type": "code",
   "execution_count": 6,
   "metadata": {},
   "outputs": [
    {
     "name": "stdout",
     "output_type": "stream",
     "text": [
      "      Nevada  Ohio\n",
      "2001     2.4   1.7\n",
      "2002     2.9   3.6\n",
      "2000     NaN   1.5\n"
     ]
    }
   ],
   "source": [
    "# Way 2: a nested dict of dicts format\n",
    "data = {'Nevada': {2001: 2.4, 2002: 2.9}, 'Ohio': {2000: 1.5, 2001: 1.7, 2002: 3.6}}\n",
    "frame3 =pd.DataFrame(data)\n",
    "print(frame3)"
   ]
  },
  {
   "cell_type": "markdown",
   "metadata": {},
   "source": [
    "### generate date sereis"
   ]
  },
  {
   "cell_type": "code",
   "execution_count": 11,
   "metadata": {},
   "outputs": [
    {
     "name": "stdout",
     "output_type": "stream",
     "text": [
      "                   A         B         C         D         E\n",
      "2020-01-01 -0.587964  1.650173 -1.357346  1.655903  0.043763\n",
      "2020-01-02  0.152907 -0.250485 -0.409903  1.350207 -0.568262\n",
      "2020-01-03  0.936816 -0.116674  0.359179 -0.357237 -0.379422\n",
      "2020-01-04 -0.250750  0.246717 -0.678980  0.692953  1.993200\n",
      "2020-01-05 -0.534678 -1.187785 -0.181448 -1.452093 -0.162666\n",
      "2020-01-06  0.294733  1.861740  0.839020  0.167864 -0.766042\n",
      "2020-01-07  0.980680 -0.844627  0.859068  1.204550 -0.677212\n",
      "2020-01-08  0.666079 -0.342886  1.404308 -0.857609 -1.162995\n",
      "2020-01-09  2.053317  0.327934 -0.996981  1.174450  0.628540\n",
      "2020-01-10  0.788717  1.168182 -0.721012  0.762493  0.206210\n"
     ]
    }
   ],
   "source": [
    "import numpy as np\n",
    "dates = pd.date_range('1/1/2020', periods=10)\n",
    "df = pd.DataFrame(np.random.randn(10, 5),index=dates, columns=['A', 'B', 'C', 'D','E'])\n",
    "print(df)"
   ]
  },
  {
   "cell_type": "markdown",
   "metadata": {},
   "source": [
    "### Indexing, selection, and filtering in DataFrame"
   ]
  },
  {
   "cell_type": "code",
   "execution_count": 33,
   "metadata": {},
   "outputs": [
    {
     "name": "stdout",
     "output_type": "stream",
     "text": [
      "               one       two     three      four      five\n",
      "Ohio      0.106480 -0.737622 -1.209570 -0.088687  0.869994\n",
      "Colorado -0.568755  0.487320  0.201649 -0.590503  0.632680\n",
      "Utah     -0.216852 -0.752811  0.756144  2.179409 -0.181352\n",
      "New York -1.628599 -0.372086 -1.349841 -0.304449  0.304680\n",
      "Florida  -1.147841 -0.743650 -0.310183  0.101428 -0.175901\n"
     ]
    }
   ],
   "source": [
    "data = pd.DataFrame(np.random.randn(5, 5),\n",
    "index=['Ohio', 'Colorado', 'Utah', 'New York', 'Florida'],\n",
    "columns=['one', 'two', 'three', 'four', 'five'])\n",
    "print(data)"
   ]
  },
  {
   "cell_type": "code",
   "execution_count": 36,
   "metadata": {},
   "outputs": [
    {
     "data": {
      "text/html": [
       "<div>\n",
       "<style scoped>\n",
       "    .dataframe tbody tr th:only-of-type {\n",
       "        vertical-align: middle;\n",
       "    }\n",
       "\n",
       "    .dataframe tbody tr th {\n",
       "        vertical-align: top;\n",
       "    }\n",
       "\n",
       "    .dataframe thead th {\n",
       "        text-align: right;\n",
       "    }\n",
       "</style>\n",
       "<table border=\"1\" class=\"dataframe\">\n",
       "  <thead>\n",
       "    <tr style=\"text-align: right;\">\n",
       "      <th></th>\n",
       "      <th>two</th>\n",
       "      <th>three</th>\n",
       "    </tr>\n",
       "  </thead>\n",
       "  <tbody>\n",
       "    <tr>\n",
       "      <th>Ohio</th>\n",
       "      <td>-0.737622</td>\n",
       "      <td>-1.209570</td>\n",
       "    </tr>\n",
       "    <tr>\n",
       "      <th>Colorado</th>\n",
       "      <td>0.487320</td>\n",
       "      <td>0.201649</td>\n",
       "    </tr>\n",
       "    <tr>\n",
       "      <th>Utah</th>\n",
       "      <td>-0.752811</td>\n",
       "      <td>0.756144</td>\n",
       "    </tr>\n",
       "    <tr>\n",
       "      <th>New York</th>\n",
       "      <td>-0.372086</td>\n",
       "      <td>-1.349841</td>\n",
       "    </tr>\n",
       "    <tr>\n",
       "      <th>Florida</th>\n",
       "      <td>-0.743650</td>\n",
       "      <td>-0.310183</td>\n",
       "    </tr>\n",
       "  </tbody>\n",
       "</table>\n",
       "</div>"
      ],
      "text/plain": [
       "               two     three\n",
       "Ohio     -0.737622 -1.209570\n",
       "Colorado  0.487320  0.201649\n",
       "Utah     -0.752811  0.756144\n",
       "New York -0.372086 -1.349841\n",
       "Florida  -0.743650 -0.310183"
      ]
     },
     "execution_count": 36,
     "metadata": {},
     "output_type": "execute_result"
    }
   ],
   "source": [
    "# please implementing the following selection\n",
    "data[['two', 'three']]"
   ]
  },
  {
   "cell_type": "code",
   "execution_count": 38,
   "metadata": {},
   "outputs": [
    {
     "data": {
      "text/plain": [
       "-0.7436499161201368"
      ]
     },
     "execution_count": 38,
     "metadata": {},
     "output_type": "execute_result"
    }
   ],
   "source": [
    "data['two'][-1]"
   ]
  },
  {
   "cell_type": "code",
   "execution_count": 39,
   "metadata": {},
   "outputs": [
    {
     "data": {
      "text/html": [
       "<div>\n",
       "<style scoped>\n",
       "    .dataframe tbody tr th:only-of-type {\n",
       "        vertical-align: middle;\n",
       "    }\n",
       "\n",
       "    .dataframe tbody tr th {\n",
       "        vertical-align: top;\n",
       "    }\n",
       "\n",
       "    .dataframe thead th {\n",
       "        text-align: right;\n",
       "    }\n",
       "</style>\n",
       "<table border=\"1\" class=\"dataframe\">\n",
       "  <thead>\n",
       "    <tr style=\"text-align: right;\">\n",
       "      <th></th>\n",
       "      <th>one</th>\n",
       "      <th>two</th>\n",
       "      <th>three</th>\n",
       "      <th>four</th>\n",
       "      <th>five</th>\n",
       "    </tr>\n",
       "  </thead>\n",
       "  <tbody>\n",
       "    <tr>\n",
       "      <th>Ohio</th>\n",
       "      <td>0.106480</td>\n",
       "      <td>-0.737622</td>\n",
       "      <td>-1.209570</td>\n",
       "      <td>-0.088687</td>\n",
       "      <td>0.869994</td>\n",
       "    </tr>\n",
       "    <tr>\n",
       "      <th>Colorado</th>\n",
       "      <td>-0.568755</td>\n",
       "      <td>0.487320</td>\n",
       "      <td>0.201649</td>\n",
       "      <td>-0.590503</td>\n",
       "      <td>0.632680</td>\n",
       "    </tr>\n",
       "  </tbody>\n",
       "</table>\n",
       "</div>"
      ],
      "text/plain": [
       "               one       two     three      four      five\n",
       "Ohio      0.106480 -0.737622 -1.209570 -0.088687  0.869994\n",
       "Colorado -0.568755  0.487320  0.201649 -0.590503  0.632680"
      ]
     },
     "execution_count": 39,
     "metadata": {},
     "output_type": "execute_result"
    }
   ],
   "source": [
    "data[:2]"
   ]
  },
  {
   "cell_type": "code",
   "execution_count": 40,
   "metadata": {},
   "outputs": [
    {
     "data": {
      "text/html": [
       "<div>\n",
       "<style scoped>\n",
       "    .dataframe tbody tr th:only-of-type {\n",
       "        vertical-align: middle;\n",
       "    }\n",
       "\n",
       "    .dataframe tbody tr th {\n",
       "        vertical-align: top;\n",
       "    }\n",
       "\n",
       "    .dataframe thead th {\n",
       "        text-align: right;\n",
       "    }\n",
       "</style>\n",
       "<table border=\"1\" class=\"dataframe\">\n",
       "  <thead>\n",
       "    <tr style=\"text-align: right;\">\n",
       "      <th></th>\n",
       "      <th>one</th>\n",
       "      <th>two</th>\n",
       "      <th>three</th>\n",
       "      <th>four</th>\n",
       "      <th>five</th>\n",
       "    </tr>\n",
       "  </thead>\n",
       "  <tbody>\n",
       "    <tr>\n",
       "      <th>Utah</th>\n",
       "      <td>-0.216852</td>\n",
       "      <td>-0.752811</td>\n",
       "      <td>0.756144</td>\n",
       "      <td>2.179409</td>\n",
       "      <td>-0.181352</td>\n",
       "    </tr>\n",
       "    <tr>\n",
       "      <th>New York</th>\n",
       "      <td>-1.628599</td>\n",
       "      <td>-0.372086</td>\n",
       "      <td>-1.349841</td>\n",
       "      <td>-0.304449</td>\n",
       "      <td>0.304680</td>\n",
       "    </tr>\n",
       "    <tr>\n",
       "      <th>Florida</th>\n",
       "      <td>-1.147841</td>\n",
       "      <td>-0.743650</td>\n",
       "      <td>-0.310183</td>\n",
       "      <td>0.101428</td>\n",
       "      <td>-0.175901</td>\n",
       "    </tr>\n",
       "  </tbody>\n",
       "</table>\n",
       "</div>"
      ],
      "text/plain": [
       "               one       two     three      four      five\n",
       "Utah     -0.216852 -0.752811  0.756144  2.179409 -0.181352\n",
       "New York -1.628599 -0.372086 -1.349841 -0.304449  0.304680\n",
       "Florida  -1.147841 -0.743650 -0.310183  0.101428 -0.175901"
      ]
     },
     "execution_count": 40,
     "metadata": {},
     "output_type": "execute_result"
    }
   ],
   "source": [
    "data[2:]"
   ]
  },
  {
   "cell_type": "code",
   "execution_count": 41,
   "metadata": {},
   "outputs": [
    {
     "data": {
      "text/html": [
       "<div>\n",
       "<style scoped>\n",
       "    .dataframe tbody tr th:only-of-type {\n",
       "        vertical-align: middle;\n",
       "    }\n",
       "\n",
       "    .dataframe tbody tr th {\n",
       "        vertical-align: top;\n",
       "    }\n",
       "\n",
       "    .dataframe thead th {\n",
       "        text-align: right;\n",
       "    }\n",
       "</style>\n",
       "<table border=\"1\" class=\"dataframe\">\n",
       "  <thead>\n",
       "    <tr style=\"text-align: right;\">\n",
       "      <th></th>\n",
       "      <th>one</th>\n",
       "      <th>two</th>\n",
       "      <th>three</th>\n",
       "      <th>four</th>\n",
       "      <th>five</th>\n",
       "    </tr>\n",
       "  </thead>\n",
       "  <tbody>\n",
       "    <tr>\n",
       "      <th>Colorado</th>\n",
       "      <td>-0.568755</td>\n",
       "      <td>0.487320</td>\n",
       "      <td>0.201649</td>\n",
       "      <td>-0.590503</td>\n",
       "      <td>0.632680</td>\n",
       "    </tr>\n",
       "    <tr>\n",
       "      <th>Utah</th>\n",
       "      <td>-0.216852</td>\n",
       "      <td>-0.752811</td>\n",
       "      <td>0.756144</td>\n",
       "      <td>2.179409</td>\n",
       "      <td>-0.181352</td>\n",
       "    </tr>\n",
       "  </tbody>\n",
       "</table>\n",
       "</div>"
      ],
      "text/plain": [
       "               one       two     three      four      five\n",
       "Colorado -0.568755  0.487320  0.201649 -0.590503  0.632680\n",
       "Utah     -0.216852 -0.752811  0.756144  2.179409 -0.181352"
      ]
     },
     "execution_count": 41,
     "metadata": {},
     "output_type": "execute_result"
    }
   ],
   "source": [
    "# filtering\n",
    "data[data['three'] > 0.1]"
   ]
  },
  {
   "cell_type": "code",
   "execution_count": 42,
   "metadata": {},
   "outputs": [
    {
     "name": "stdout",
     "output_type": "stream",
     "text": [
      "              one      two     three      four      five\n",
      "Ohio      0.10648  0.00000  0.000000  0.000000  0.869994\n",
      "Colorado  0.00000  0.48732  0.201649  0.000000  0.632680\n",
      "Utah      0.00000  0.00000  0.756144  2.179409  0.000000\n",
      "New York  0.00000  0.00000  0.000000  0.000000  0.304680\n",
      "Florida   0.00000  0.00000  0.000000  0.101428  0.000000\n"
     ]
    }
   ],
   "source": [
    "data[data < 0.1] = 0\n",
    "print(data)"
   ]
  },
  {
   "cell_type": "code",
   "execution_count": 47,
   "metadata": {},
   "outputs": [
    {
     "data": {
      "text/html": [
       "<div>\n",
       "<style scoped>\n",
       "    .dataframe tbody tr th:only-of-type {\n",
       "        vertical-align: middle;\n",
       "    }\n",
       "\n",
       "    .dataframe tbody tr th {\n",
       "        vertical-align: top;\n",
       "    }\n",
       "\n",
       "    .dataframe thead th {\n",
       "        text-align: right;\n",
       "    }\n",
       "</style>\n",
       "<table border=\"1\" class=\"dataframe\">\n",
       "  <thead>\n",
       "    <tr style=\"text-align: right;\">\n",
       "      <th></th>\n",
       "      <th>one</th>\n",
       "      <th>two</th>\n",
       "      <th>three</th>\n",
       "      <th>four</th>\n",
       "      <th>five</th>\n",
       "    </tr>\n",
       "  </thead>\n",
       "  <tbody>\n",
       "    <tr>\n",
       "      <th>New York</th>\n",
       "      <td>0.0</td>\n",
       "      <td>0.0</td>\n",
       "      <td>0.0</td>\n",
       "      <td>0.000000</td>\n",
       "      <td>0.30468</td>\n",
       "    </tr>\n",
       "    <tr>\n",
       "      <th>Florida</th>\n",
       "      <td>0.0</td>\n",
       "      <td>0.0</td>\n",
       "      <td>0.0</td>\n",
       "      <td>0.101428</td>\n",
       "      <td>0.00000</td>\n",
       "    </tr>\n",
       "  </tbody>\n",
       "</table>\n",
       "</div>"
      ],
      "text/plain": [
       "          one  two  three      four     five\n",
       "New York  0.0  0.0    0.0  0.000000  0.30468\n",
       "Florida   0.0  0.0    0.0  0.101428  0.00000"
      ]
     },
     "execution_count": 47,
     "metadata": {},
     "output_type": "execute_result"
    }
   ],
   "source": [
    "# integer-location based indexing for selection by position.\n",
    "data.iloc[1]\n",
    "data.iloc[[0,2]]\n",
    "data.iloc[3:]"
   ]
  },
  {
   "cell_type": "markdown",
   "metadata": {},
   "source": [
    "## Reading and output text files"
   ]
  },
  {
   "cell_type": "markdown",
   "metadata": {},
   "source": [
    "When processing very large files or figuring out the right set of arguments to correctly process a large file, you may only want to read in a small piece of a file or iterate through smaller chunks of the file."
   ]
  },
  {
   "cell_type": "markdown",
   "metadata": {},
   "source": [
    "### OS module"
   ]
  },
  {
   "cell_type": "markdown",
   "metadata": {},
   "source": [
    "The OS module in Python provides a way of using operating system dependent functionality"
   ]
  },
  {
   "cell_type": "code",
   "execution_count": 5,
   "metadata": {},
   "outputs": [
    {
     "name": "stdout",
     "output_type": "stream",
     "text": [
      "/Users/cathychen/PycharmProjects/DEDA_Class_2017-master/DEDA_Class_2017_InputOutput\n"
     ]
    }
   ],
   "source": [
    "import pandas as pd\n",
    "import os\n",
    "path_direct = os.getcwd()\n",
    "print(path_direct)"
   ]
  },
  {
   "cell_type": "markdown",
   "metadata": {},
   "source": [
    "#### read CSV file"
   ]
  },
  {
   "cell_type": "code",
   "execution_count": 6,
   "metadata": {},
   "outputs": [],
   "source": [
    "apple_stock = pd.read_csv('AAPL.csv', index_col='date', parse_dates=True)"
   ]
  },
  {
   "cell_type": "code",
   "execution_count": 10,
   "metadata": {},
   "outputs": [
    {
     "name": "stdout",
     "output_type": "stream",
     "text": [
      "                 low      high     open     close    volume\n",
      "date                                                       \n",
      "2013-01-02  541.6300  555.0000  553.820  549.0300  20009365\n",
      "2013-01-03  541.0000  549.6700  547.880  542.0959  12596324\n",
      "2013-01-04  525.8286  538.6299  536.965  527.0000  21217652\n",
      "2013-01-07  515.2000  529.3000  522.000  523.9000  17278449\n",
      "2013-01-08  521.2500  531.8900  529.210  525.3100  16371601\n",
      "...              ...       ...      ...       ...       ...\n",
      "2013-08-26  500.5000  510.2000  500.750  502.9700  11816205\n",
      "2013-08-27  486.3000  502.5100  498.000  488.5900  15141118\n",
      "2013-08-28  486.0000  495.8000  486.000  490.8960  10978381\n",
      "2013-08-29  491.1300  496.5000  491.650  491.7000   8554933\n",
      "2013-08-30  486.5000  492.9500  492.000  487.2160   9727169\n",
      "\n",
      "[168 rows x 5 columns]\n"
     ]
    }
   ],
   "source": [
    "# slicing\n",
    "# apple_stock_2013 = apple_stock.loc[apple_stock.index.year == 2012, ['low', 'high', 'open', 'close', 'volume']]\n",
    "apple_stock_2013 = apple_stock.loc[apple_stock.index.year == 2013, ['low', 'high', 'open', 'close', 'volume']]\n",
    "print(apple_stock_2013)"
   ]
  },
  {
   "cell_type": "code",
   "execution_count": 24,
   "metadata": {},
   "outputs": [
    {
     "name": "stdout",
     "output_type": "stream",
     "text": [
      "                low    high      open    close    volume\n",
      "date                                                    \n",
      "2013-01-24  450.250  465.73  460.0000  450.500  52156196\n",
      "2013-01-25  435.000  456.23  451.6900  439.880  43129305\n",
      "2013-04-24  392.500  415.25  393.5400  405.462  34633970\n",
      "2013-04-17  398.110  420.60  420.2700  402.800  33743681\n",
      "2013-08-13  468.050  494.66  470.9400  489.570  31464522\n",
      "...             ...     ...       ...      ...       ...\n",
      "2013-07-22  425.468  429.75  429.4600  426.310   7426793\n",
      "2013-08-01  453.260  456.80  455.7527  456.676   7364089\n",
      "2013-07-26  434.340  441.04  435.3000  440.990   7150442\n",
      "2013-07-17  428.220  432.22  429.7000  430.310   7108579\n",
      "2013-06-18  430.210  434.90  431.5600  431.770   6966282\n",
      "\n",
      "[168 rows x 5 columns]\n"
     ]
    }
   ],
   "source": [
    "# sorting \n",
    "apple_stock_2013.sort_values(by='volume', ascending=False, inplace=True)\n",
    "print(apple_stock_2013)"
   ]
  },
  {
   "cell_type": "markdown",
   "metadata": {},
   "source": [
    "#### Save the new data as json or csv format"
   ]
  },
  {
   "cell_type": "code",
   "execution_count": null,
   "metadata": {},
   "outputs": [],
   "source": [
    "apple_stock_2013.to_json('AAPL_2013.json')\n",
    "apple_stock_2013.to_csv('test.csv')"
   ]
  },
  {
   "cell_type": "markdown",
   "metadata": {},
   "source": [
    "#### Using build-in function, open(), to open the file and using close() to close the file"
   ]
  },
  {
   "cell_type": "code",
   "execution_count": 12,
   "metadata": {},
   "outputs": [
    {
     "name": "stdout",
     "output_type": "stream",
     "text": [
      "                     1\n",
      "\n",
      "  From fairest creatures we desire increase,That thereby beauty's rose might never die,But as the riper should by time decease,His tender heir might bear his memory:\n",
      "\n",
      "  But thou contracted to thine own bright eyes,\n",
      "\n",
      "  Feed'st thy light's flame with self-substantial fuel,\n",
      "\n",
      "  Making a famine where abundance lies,\n",
      "\n",
      "  Thy self thy foe, to thy sweet self too cruel:\n",
      "\n",
      "  Thou that art now the world's fresh ornament,\n",
      "\n",
      "  And only herald to the gaudy spring,\n",
      "\n",
      "  Within thine own bud buriest thy content,\n",
      "\n",
      "  And tender churl mak'st waste in niggarding:\n",
      "\n",
      "    Pity the world, or else this glutton be,\n",
      "\n",
      "    To eat the world's due, by the grave and thee.\n",
      "\n",
      "\n",
      "\n",
      "                     2\n",
      "\n",
      "  When forty winters shall besiege thy brow,\n",
      "\n",
      "  And dig deep trenches in thy beauty's field,\n",
      "\n",
      "  Thy youth's proud livery so gazed on now,\n",
      "\n",
      "  Will be a tattered weed of small worth held:  \n",
      "\n",
      "  Then being asked, where all thy beauty lies,\n",
      "\n",
      "  Where all the treasure of thy lusty days;\n",
      "\n",
      "  To say within thine own deep sunken eyes,\n",
      "\n",
      "  Were an all-eating shame, and thriftless praise.\n",
      "\n",
      "  How much more praise deserved thy beauty's use,\n",
      "\n",
      "  If thou couldst answer 'This fair child of mine\n",
      "\n",
      "  Shall sum my count, and make my old excuse'\n",
      "\n",
      "  Proving his beauty by succession thine.\n",
      "\n",
      "    This were to be new made when thou art old,\n",
      "\n",
      "    And see thy blood warm when thou feel'st it cold.\n",
      "\n",
      "\n",
      "\n",
      "                     3\n",
      "\n",
      "  Look in thy glass and tell the face thou viewest,\n",
      "\n",
      "  Now is the time that face should form another,\n",
      "\n",
      "  Whose fresh repair if now thou not renewest,\n",
      "\n",
      "  Thou dost beguile the world, unbless some mother.\n",
      "\n",
      "  For where is she so fair whose uneared womb\n",
      "\n",
      "  Disdains the tillage of thy husbandry?\n",
      "\n",
      "  Or who is he so fond will be the tomb,\n",
      "\n",
      "  Of his self-love to stop posterity?  \n",
      "\n",
      "  Thou art thy mother's glass and she in thee\n",
      "\n",
      "  Calls back the lovely April of her prime,\n",
      "\n",
      "  So thou through windows of thine age shalt see,\n",
      "\n",
      "  Despite of wrinkles this thy golden time.\n",
      "\n",
      "    But if thou live remembered not to be,\n",
      "\n",
      "    Die single and thine image dies with thee.\n",
      "\n",
      "\n",
      "\n",
      "                     4\n",
      "\n",
      "  Unthrifty loveliness why dost thou spend,\n",
      "\n",
      "  Upon thy self thy beauty's legacy?\n",
      "\n",
      "  Nature's bequest gives nothing but doth lend,\n",
      "\n",
      "  And being frank she lends to those are free:\n",
      "\n",
      "  Then beauteous niggard why dost thou abuse,\n",
      "\n",
      "  The bounteous largess given thee to give?\n",
      "\n",
      "  Profitless usurer why dost thou use\n",
      "\n",
      "  So great a sum of sums yet canst not live?\n",
      "\n",
      "  For having traffic with thy self alone,\n",
      "\n",
      "  Thou of thy self thy sweet self dost deceive,\n",
      "\n",
      "  Then how when nature calls thee to be gone,\n",
      "\n",
      "  What acceptable audit canst thou leave?  \n",
      "\n",
      "    Thy unused beauty must be tombed with thee,\n",
      "\n",
      "    Which used lives th' executor to be.\n",
      "\n",
      "\n",
      "\n",
      "                     5\n",
      "\n",
      "  Those hours that with gentle work did frame\n",
      "\n",
      "  The lovely gaze where every eye doth dwell\n",
      "\n",
      "  Will play the tyrants to the very same,\n",
      "\n",
      "  And that unfair which fairly doth excel:\n",
      "\n",
      "  For never-resting time leads summer on\n",
      "\n",
      "  To hideous winter and confounds him there,\n",
      "\n",
      "  Sap checked with frost and lusty leaves quite gone,\n",
      "\n",
      "  Beauty o'er-snowed and bareness every where:\n",
      "\n",
      "  Then were not summer's distillation left\n",
      "\n",
      "  A liquid prisoner pent in walls of glass,\n",
      "\n",
      "  Beauty's effect with beauty were bereft,\n",
      "\n",
      "  Nor it nor no remembrance what it was.\n",
      "\n",
      "    But flowers distilled though they with winter meet,\n",
      "\n",
      "    Leese but their show, their substance still lives sweet.\n",
      "\n",
      "\n",
      "\n",
      "                     6  \n",
      "\n",
      "  Then let not winter's ragged hand deface,\n",
      "\n",
      "  In thee thy summer ere thou be distilled:\n",
      "\n",
      "  Make sweet some vial; treasure thou some place,\n",
      "\n",
      "  With beauty's treasure ere it be self-killed:\n",
      "\n",
      "  That use is not forbidden usury,\n",
      "\n",
      "  Which happies those that pay the willing loan;\n",
      "\n",
      "  That's for thy self to breed another thee,\n",
      "\n",
      "  Or ten times happier be it ten for one,\n",
      "\n",
      "  Ten times thy self were happier than thou art,\n",
      "\n",
      "  If ten of thine ten times refigured thee:\n",
      "\n",
      "  Then what could death do if thou shouldst depart,\n",
      "\n",
      "  Leaving thee living in posterity?\n",
      "\n",
      "    Be not self-willed for thou art much too fair,\n",
      "\n",
      "    To be death's conquest and make worms thine heir.\n",
      "\n",
      "\n",
      "\n",
      "                     7\n",
      "\n",
      "  Lo in the orient when the gracious light\n",
      "\n",
      "  Lifts up his burning head, each under eye\n",
      "\n",
      "  Doth homage to his new-appearing sight,\n",
      "\n",
      "  Serving with looks his sacred majesty,  \n",
      "\n",
      "  And having climbed the steep-up heavenly hill,\n",
      "\n",
      "  Resembling strong youth in his middle age,\n",
      "\n",
      "  Yet mortal looks adore his beauty still,\n",
      "\n",
      "  Attending on his golden pilgrimage:\n",
      "\n",
      "  But when from highmost pitch with weary car,\n",
      "\n",
      "  Like feeble age he reeleth from the day,\n",
      "\n",
      "  The eyes (fore duteous) now converted are\n",
      "\n",
      "  From his low tract and look another way:\n",
      "\n",
      "    So thou, thy self out-going in thy noon:\n",
      "\n",
      "    Unlooked on diest unless thou get a son.\n",
      "\n",
      "\n",
      "\n",
      "                     8\n",
      "\n",
      "  Music to hear, why hear'st thou music sadly?\n",
      "\n",
      "  Sweets with sweets war not, joy delights in joy:\n",
      "\n",
      "  Why lov'st thou that which thou receiv'st not gladly,\n",
      "\n",
      "  Or else receiv'st with pleasure thine annoy?\n",
      "\n",
      "  If the true concord of well-tuned sounds,\n",
      "\n",
      "  By unions married do offend thine ear,\n",
      "\n",
      "  They do but sweetly chide thee, who confounds\n",
      "\n",
      "  In singleness the parts that thou shouldst bear:  \n",
      "\n",
      "  Mark how one string sweet husband to another,\n",
      "\n",
      "  Strikes each in each by mutual ordering;\n",
      "\n",
      "  Resembling sire, and child, and happy mother,\n",
      "\n",
      "  Who all in one, one pleasing note do sing:\n",
      "\n",
      "    Whose speechless song being many, seeming one,\n",
      "\n",
      "    Sings this to thee, 'Thou single wilt prove none'.\n",
      "\n",
      "\n",
      "\n",
      "                     9\n",
      "\n",
      "  Is it for fear to wet a widow's eye,\n",
      "\n",
      "  That thou consum'st thy self in single life?\n",
      "\n",
      "  Ah, if thou issueless shalt hap to die,\n",
      "\n",
      "  The world will wail thee like a makeless wife,\n",
      "\n",
      "  The world will be thy widow and still weep,\n",
      "\n",
      "  That thou no form of thee hast left behind,\n",
      "\n",
      "  When every private widow well may keep,\n",
      "\n",
      "  By children's eyes, her husband's shape in mind:\n",
      "\n",
      "  Look what an unthrift in the world doth spend\n",
      "\n",
      "  Shifts but his place, for still the world enjoys it;\n",
      "\n",
      "  But beauty's waste hath in the world an end,\n",
      "\n",
      "  And kept unused the user so destroys it:  \n",
      "\n",
      "    No love toward others in that bosom sits\n",
      "\n",
      "    That on himself such murd'rous shame commits.\n",
      "\n",
      "\n",
      "\n",
      "                     10\n",
      "\n",
      "  For shame deny that thou bear'st love to any\n",
      "\n",
      "  Who for thy self art so unprovident.\n",
      "\n",
      "  Grant if thou wilt, thou art beloved of many,\n",
      "\n",
      "  But that thou none lov'st is most evident:\n",
      "\n",
      "  For thou art so possessed with murd'rous hate,\n",
      "\n",
      "  That 'gainst thy self thou stick'st not to conspire,\n",
      "\n",
      "  Seeking that beauteous roof to ruinate\n",
      "\n",
      "  Which to repair should be thy chief desire:\n",
      "\n",
      "  O change thy thought, that I may change my mind,\n",
      "\n",
      "  Shall hate be fairer lodged than gentle love?\n",
      "\n",
      "  Be as thy presence is gracious and kind,\n",
      "\n",
      "  Or to thy self at least kind-hearted prove,\n",
      "\n",
      "    Make thee another self for love of me,\n",
      "\n",
      "    That beauty still may live in thine or thee.\n",
      "\n"
     ]
    }
   ],
   "source": [
    "shakespeare = open('shakespeare.txt', 'r', encoding='utf-8')\n",
    "for string in shakespeare:\n",
    "    print(string)\n",
    "shakespeare.close()"
   ]
  },
  {
   "cell_type": "markdown",
   "metadata": {},
   "source": [
    "Way 1: read strings"
   ]
  },
  {
   "cell_type": "code",
   "execution_count": 21,
   "metadata": {},
   "outputs": [
    {
     "name": "stdout",
     "output_type": "stream",
     "text": [
      " desire increase,That thereby beauty's rose might never die,But as the riper should by time decease,His tender heir might bear his memory:\n",
      "  But thou contracted to thine own bright eyes,\n",
      "  Feed'st thy light's flame with self-substantial fuel,\n",
      "  Making a famine where abundance lies,\n",
      "  Thy self thy foe, to thy sweet self too cruel:\n",
      "  Thou that art now the world's fresh ornament,\n",
      "  And only herald to the gaudy spring,\n",
      "  Within thine own bud buriest thy content,\n",
      "  And tender churl mak'st waste in niggarding:\n",
      "    Pity the world, or else this glutton be,\n",
      "    To eat the world's due, by the grave and thee.\n",
      "\n",
      "                     2\n",
      "  When forty winters shall besiege thy brow,\n",
      "  And dig deep trenches in thy beauty's field,\n",
      "  Thy youth's proud livery so gazed on now,\n",
      "  Will be a tattered weed of small worth held:  \n",
      "  Then being asked, where all thy beauty lies,\n",
      "  Where all the treasure of thy lusty days;\n",
      "  To say within thine own deep sunken eyes,\n",
      "  Were an all-eating shame, and thriftless praise.\n",
      "  How much more praise deserved thy beauty's use,\n",
      "  If thou couldst answer 'This fair child of mine\n",
      "  Shall sum my count, and make my old excuse'\n",
      "  Proving his beauty by succession thine.\n",
      "    This were to be new made when thou art old,\n",
      "    And see thy blood warm when thou feel'st it cold.\n",
      "\n",
      "                     3\n",
      "  Look in thy glass and tell the face thou viewest,\n",
      "  Now is the time that face should form another,\n",
      "  Whose fresh repair if now thou not renewest,\n",
      "  Thou dost beguile the world, unbless some mother.\n",
      "  For where is she so fair whose uneared womb\n",
      "  Disdains the tillage of thy husbandry?\n",
      "  Or who is he so fond will be the tomb,\n",
      "  Of his self-love to stop posterity?  \n",
      "  Thou art thy mother's glass and she in thee\n",
      "  Calls back the lovely April of her prime,\n",
      "  So thou through windows of thine age shalt see,\n",
      "  Despite of wrinkles this thy golden time.\n",
      "    But if thou live remembered not to be,\n",
      "    Die single and thine image dies with thee.\n",
      "\n",
      "                     4\n",
      "  Unthrifty loveliness why dost thou spend,\n",
      "  Upon thy self thy beauty's legacy?\n",
      "  Nature's bequest gives nothing but doth lend,\n",
      "  And being frank she lends to those are free:\n",
      "  Then beauteous niggard why dost thou abuse,\n",
      "  The bounteous largess given thee to give?\n",
      "  Profitless usurer why dost thou use\n",
      "  So great a sum of sums yet canst not live?\n",
      "  For having traffic with thy self alone,\n",
      "  Thou of thy self thy sweet self dost deceive,\n",
      "  Then how when nature calls thee to be gone,\n",
      "  What acceptable audit canst thou leave?  \n",
      "    Thy unused beauty must be tombed with thee,\n",
      "    Which used lives th' executor to be.\n",
      "\n",
      "                     5\n",
      "  Those hours that with gentle work did frame\n",
      "  The lovely gaze where every eye doth dwell\n",
      "  Will play the tyrants to the very same,\n",
      "  And that unfair which fairly doth excel:\n",
      "  For never-resting time leads summer on\n",
      "  To hideous winter and confounds him there,\n",
      "  Sap checked with frost and lusty leaves quite gone,\n",
      "  Beauty o'er-snowed and bareness every where:\n",
      "  Then were not summer's distillation left\n",
      "  A liquid prisoner pent in walls of glass,\n",
      "  Beauty's effect with beauty were bereft,\n",
      "  Nor it nor no remembrance what it was.\n",
      "    But flowers distilled though they with winter meet,\n",
      "    Leese but their show, their substance still lives sweet.\n",
      "\n",
      "                     6  \n",
      "  Then let not winter's ragged hand deface,\n",
      "  In thee thy summer ere thou be distilled:\n",
      "  Make sweet some vial; treasure thou some place,\n",
      "  With beauty's treasure ere it be self-killed:\n",
      "  That use is not forbidden usury,\n",
      "  Which happies those that pay the willing loan;\n",
      "  That's for thy self to breed another thee,\n",
      "  Or ten times happier be it ten for one,\n",
      "  Ten times thy self were happier than thou art,\n",
      "  If ten of thine ten times refigured thee:\n",
      "  Then what could death do if thou shouldst depart,\n",
      "  Leaving thee living in posterity?\n",
      "    Be not self-willed for thou art much too fair,\n",
      "    To be death's conquest and make worms thine heir.\n",
      "\n",
      "                     7\n",
      "  Lo in the orient when the gracious light\n",
      "  Lifts up his burning head, each under eye\n",
      "  Doth homage to his new-appearing sight,\n",
      "  Serving with looks his sacred majesty,  \n",
      "  And having climbed the steep-up heavenly hill,\n",
      "  Resembling strong youth in his middle age,\n",
      "  Yet mortal looks adore his beauty still,\n",
      "  Attending on his golden pilgrimage:\n",
      "  But when from highmost pitch with weary car,\n",
      "  Like feeble age he reeleth from the day,\n",
      "  The eyes (fore duteous) now converted are\n",
      "  From his low tract and look another way:\n",
      "    So thou, thy self out-going in thy noon:\n",
      "    Unlooked on diest unless thou get a son.\n",
      "\n",
      "                     8\n",
      "  Music to hear, why hear'st thou music sadly?\n",
      "  Sweets with sweets war not, joy delights in joy:\n",
      "  Why lov'st thou that which thou receiv'st not gladly,\n",
      "  Or else receiv'st with pleasure thine annoy?\n",
      "  If the true concord of well-tuned sounds,\n",
      "  By unions married do offend thine ear,\n",
      "  They do but sweetly chide thee, who confounds\n",
      "  In singleness the parts that thou shouldst bear:  \n",
      "  Mark how one string sweet husband to another,\n",
      "  Strikes each in each by mutual ordering;\n",
      "  Resembling sire, and child, and happy mother,\n",
      "  Who all in one, one pleasing note do sing:\n",
      "    Whose speechless song being many, seeming one,\n",
      "    Sings this to thee, 'Thou single wilt prove none'.\n",
      "\n",
      "                     9\n",
      "  Is it for fear to wet a widow's eye,\n",
      "  That thou consum'st thy self in single life?\n",
      "  Ah, if thou issueless shalt hap to die,\n",
      "  The world will wail thee like a makeless wife,\n",
      "  The world will be thy widow and still weep,\n",
      "  That thou no form of thee hast left behind,\n",
      "  When every private widow well may keep,\n",
      "  By children's eyes, her husband's shape in mind:\n",
      "  Look what an unthrift in the world doth spend\n",
      "  Shifts but his place, for still the world enjoys it;\n",
      "  But beauty's waste hath in the world an end,\n",
      "  And kept unused the user so destroys it:  \n",
      "    No love toward others in that bosom sits\n",
      "    That on himself such murd'rous shame commits.\n",
      "\n",
      "                     10\n",
      "  For shame deny that thou bear'st love to any\n",
      "  Who for thy self art so unprovident.\n",
      "  Grant if thou wilt, thou art beloved of many,\n",
      "  But that thou none lov'st is most evident:\n",
      "  For thou art so possessed with murd'rous hate,\n",
      "  That 'gainst thy self thou stick'st not to conspire,\n",
      "  Seeking that beauteous roof to ruinate\n",
      "  Which to repair should be thy chief desire:\n",
      "  O change thy thought, that I may change my mind,\n",
      "  Shall hate be fairer lodged than gentle love?\n",
      "  Be as thy presence is gracious and kind,\n",
      "  Or to thy self at least kind-hearted prove,\n",
      "    Make thee another self for love of me,\n",
      "    That beauty still may live in thine or thee.\n",
      "\n"
     ]
    }
   ],
   "source": [
    "with open('shakespeare.txt', 'r') as shakespeare_read:\n",
    "    # read(n) method will put n characters into a string\n",
    "    shakespeare_string_50 = shakespeare_read.read(50)\n",
    "    shakespeare_string = shakespeare_read.read()\n",
    "    \n",
    "print(shakespeare_string)"
   ]
  },
  {
   "cell_type": "markdown",
   "metadata": {},
   "source": [
    "Way 2: read single line"
   ]
  },
  {
   "cell_type": "code",
   "execution_count": 22,
   "metadata": {},
   "outputs": [
    {
     "name": "stdout",
     "output_type": "stream",
     "text": [
      "                     1\n",
      "*  From fairest creatures we desire increase,That thereby beauty's rose might never die,But as the riper should by time decease,His tender heir might bear his memory:\n",
      "*  But thou contracted to thine own bright eyes,\n",
      "*"
     ]
    }
   ],
   "source": [
    "with open('shakespeare.txt', 'r') as shakespeare_read:\n",
    "    # readline() method will read one line once.\n",
    "    print(shakespeare_read.readline(), end='*')\n",
    "    print(shakespeare_read.readline(), end='*')\n",
    "    print(shakespeare_read.readline(), end='*')"
   ]
  },
  {
   "cell_type": "markdown",
   "metadata": {},
   "source": [
    "Way 3: read multiple lines, and create a list of strings"
   ]
  },
  {
   "cell_type": "code",
   "execution_count": 23,
   "metadata": {},
   "outputs": [
    {
     "name": "stdout",
     "output_type": "stream",
     "text": [
      "['                     1\\n', \"  From fairest creatures we desire increase,That thereby beauty's rose might never die,But as the riper should by time decease,His tender heir might bear his memory:\\n\", '  But thou contracted to thine own bright eyes,\\n', \"  Feed'st thy light's flame with self-substantial fuel,\\n\", '  Making a famine where abundance lies,\\n', '  Thy self thy foe, to thy sweet self too cruel:\\n', \"  Thou that art now the world's fresh ornament,\\n\", '  And only herald to the gaudy spring,\\n', '  Within thine own bud buriest thy content,\\n', \"  And tender churl mak'st waste in niggarding:\\n\", '    Pity the world, or else this glutton be,\\n', \"    To eat the world's due, by the grave and thee.\\n\", '\\n', '                     2\\n', '  When forty winters shall besiege thy brow,\\n', \"  And dig deep trenches in thy beauty's field,\\n\", \"  Thy youth's proud livery so gazed on now,\\n\", '  Will be a tattered weed of small worth held:  \\n', '  Then being asked, where all thy beauty lies,\\n', '  Where all the treasure of thy lusty days;\\n', '  To say within thine own deep sunken eyes,\\n', '  Were an all-eating shame, and thriftless praise.\\n', \"  How much more praise deserved thy beauty's use,\\n\", \"  If thou couldst answer 'This fair child of mine\\n\", \"  Shall sum my count, and make my old excuse'\\n\", '  Proving his beauty by succession thine.\\n', '    This were to be new made when thou art old,\\n', \"    And see thy blood warm when thou feel'st it cold.\\n\", '\\n', '                     3\\n', '  Look in thy glass and tell the face thou viewest,\\n', '  Now is the time that face should form another,\\n', '  Whose fresh repair if now thou not renewest,\\n', '  Thou dost beguile the world, unbless some mother.\\n', '  For where is she so fair whose uneared womb\\n', '  Disdains the tillage of thy husbandry?\\n', '  Or who is he so fond will be the tomb,\\n', '  Of his self-love to stop posterity?  \\n', \"  Thou art thy mother's glass and she in thee\\n\", '  Calls back the lovely April of her prime,\\n', '  So thou through windows of thine age shalt see,\\n', '  Despite of wrinkles this thy golden time.\\n', '    But if thou live remembered not to be,\\n', '    Die single and thine image dies with thee.\\n', '\\n', '                     4\\n', '  Unthrifty loveliness why dost thou spend,\\n', \"  Upon thy self thy beauty's legacy?\\n\", \"  Nature's bequest gives nothing but doth lend,\\n\", '  And being frank she lends to those are free:\\n', '  Then beauteous niggard why dost thou abuse,\\n', '  The bounteous largess given thee to give?\\n', '  Profitless usurer why dost thou use\\n', '  So great a sum of sums yet canst not live?\\n', '  For having traffic with thy self alone,\\n', '  Thou of thy self thy sweet self dost deceive,\\n', '  Then how when nature calls thee to be gone,\\n', '  What acceptable audit canst thou leave?  \\n', '    Thy unused beauty must be tombed with thee,\\n', \"    Which used lives th' executor to be.\\n\", '\\n', '                     5\\n', '  Those hours that with gentle work did frame\\n', '  The lovely gaze where every eye doth dwell\\n', '  Will play the tyrants to the very same,\\n', '  And that unfair which fairly doth excel:\\n', '  For never-resting time leads summer on\\n', '  To hideous winter and confounds him there,\\n', '  Sap checked with frost and lusty leaves quite gone,\\n', \"  Beauty o'er-snowed and bareness every where:\\n\", \"  Then were not summer's distillation left\\n\", '  A liquid prisoner pent in walls of glass,\\n', \"  Beauty's effect with beauty were bereft,\\n\", '  Nor it nor no remembrance what it was.\\n', '    But flowers distilled though they with winter meet,\\n', '    Leese but their show, their substance still lives sweet.\\n', '\\n', '                     6  \\n', \"  Then let not winter's ragged hand deface,\\n\", '  In thee thy summer ere thou be distilled:\\n', '  Make sweet some vial; treasure thou some place,\\n', \"  With beauty's treasure ere it be self-killed:\\n\", '  That use is not forbidden usury,\\n', '  Which happies those that pay the willing loan;\\n', \"  That's for thy self to breed another thee,\\n\", '  Or ten times happier be it ten for one,\\n', '  Ten times thy self were happier than thou art,\\n', '  If ten of thine ten times refigured thee:\\n', '  Then what could death do if thou shouldst depart,\\n', '  Leaving thee living in posterity?\\n', '    Be not self-willed for thou art much too fair,\\n', \"    To be death's conquest and make worms thine heir.\\n\", '\\n', '                     7\\n', '  Lo in the orient when the gracious light\\n', '  Lifts up his burning head, each under eye\\n', '  Doth homage to his new-appearing sight,\\n', '  Serving with looks his sacred majesty,  \\n', '  And having climbed the steep-up heavenly hill,\\n', '  Resembling strong youth in his middle age,\\n', '  Yet mortal looks adore his beauty still,\\n', '  Attending on his golden pilgrimage:\\n', '  But when from highmost pitch with weary car,\\n', '  Like feeble age he reeleth from the day,\\n', '  The eyes (fore duteous) now converted are\\n', '  From his low tract and look another way:\\n', '    So thou, thy self out-going in thy noon:\\n', '    Unlooked on diest unless thou get a son.\\n', '\\n', '                     8\\n', \"  Music to hear, why hear'st thou music sadly?\\n\", '  Sweets with sweets war not, joy delights in joy:\\n', \"  Why lov'st thou that which thou receiv'st not gladly,\\n\", \"  Or else receiv'st with pleasure thine annoy?\\n\", '  If the true concord of well-tuned sounds,\\n', '  By unions married do offend thine ear,\\n', '  They do but sweetly chide thee, who confounds\\n', '  In singleness the parts that thou shouldst bear:  \\n', '  Mark how one string sweet husband to another,\\n', '  Strikes each in each by mutual ordering;\\n', '  Resembling sire, and child, and happy mother,\\n', '  Who all in one, one pleasing note do sing:\\n', '    Whose speechless song being many, seeming one,\\n', \"    Sings this to thee, 'Thou single wilt prove none'.\\n\", '\\n', '                     9\\n', \"  Is it for fear to wet a widow's eye,\\n\", \"  That thou consum'st thy self in single life?\\n\", '  Ah, if thou issueless shalt hap to die,\\n', '  The world will wail thee like a makeless wife,\\n', '  The world will be thy widow and still weep,\\n', '  That thou no form of thee hast left behind,\\n', '  When every private widow well may keep,\\n', \"  By children's eyes, her husband's shape in mind:\\n\", '  Look what an unthrift in the world doth spend\\n', '  Shifts but his place, for still the world enjoys it;\\n', \"  But beauty's waste hath in the world an end,\\n\", '  And kept unused the user so destroys it:  \\n', '    No love toward others in that bosom sits\\n', \"    That on himself such murd'rous shame commits.\\n\", '\\n', '                     10\\n', \"  For shame deny that thou bear'st love to any\\n\", '  Who for thy self art so unprovident.\\n', '  Grant if thou wilt, thou art beloved of many,\\n', \"  But that thou none lov'st is most evident:\\n\", \"  For thou art so possessed with murd'rous hate,\\n\", \"  That 'gainst thy self thou stick'st not to conspire,\\n\", '  Seeking that beauteous roof to ruinate\\n', '  Which to repair should be thy chief desire:\\n', '  O change thy thought, that I may change my mind,\\n', '  Shall hate be fairer lodged than gentle love?\\n', '  Be as thy presence is gracious and kind,\\n', '  Or to thy self at least kind-hearted prove,\\n', '    Make thee another self for love of me,\\n', '    That beauty still may live in thine or thee.\\n']\n"
     ]
    }
   ],
   "source": [
    "with open('shakespeare.txt', 'r') as shakespeare_read:\n",
    "    # readlines() method will put content into a list, every line is a string in the list\n",
    "    shakespeare_lines = shakespeare_read.readlines()\n",
    "    print(shakespeare_lines)"
   ]
  },
  {
   "cell_type": "code",
   "execution_count": null,
   "metadata": {},
   "outputs": [],
   "source": []
  }
 ],
 "metadata": {
  "kernelspec": {
   "display_name": "Python 3",
   "language": "python",
   "name": "python3"
  },
  "language_info": {
   "codemirror_mode": {
    "name": "ipython",
    "version": 3
   },
   "file_extension": ".py",
   "mimetype": "text/x-python",
   "name": "python",
   "nbconvert_exporter": "python",
   "pygments_lexer": "ipython3",
   "version": "3.8.8"
  }
 },
 "nbformat": 4,
 "nbformat_minor": 2
}
