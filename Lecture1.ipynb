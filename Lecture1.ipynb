{
 "cells": [
  {
   "cell_type": "markdown",
   "metadata": {},
   "source": [
    "# Basic syntax: string, list, set, dictionary\n"
   ]
  },
  {
   "cell_type": "markdown",
   "metadata": {},
   "source": [
    "## List\n",
    "created by brackets, immutable, changeable. List is changable, meaning that we can change, add, and remove items in a list after it has been created."
   ]
  },
  {
   "cell_type": "code",
   "execution_count": 30,
   "metadata": {},
   "outputs": [
    {
     "name": "stdout",
     "output_type": "stream",
     "text": [
      "['Welcome', 'to', 'Python', 'World.', \"It's\", 'Amazing', '2021', 'class']\n"
     ]
    }
   ],
   "source": [
    "welcome_list = ['Welcome', 'to', 'Python', 'World.', 'It\\'s', 'Amazing', '2021', 'class']\n",
    "print(welcome_list)"
   ]
  },
  {
   "cell_type": "markdown",
   "metadata": {},
   "source": [
    "List items are indexed, the first item has index [0], the second item has index [1] etc. "
   ]
  },
  {
   "cell_type": "code",
   "execution_count": 4,
   "metadata": {},
   "outputs": [
    {
     "data": {
      "text/plain": [
       "'Welcome'"
      ]
     },
     "execution_count": 4,
     "metadata": {},
     "output_type": "execute_result"
    }
   ],
   "source": [
    "welcome_list[0]"
   ]
  },
  {
   "cell_type": "code",
   "execution_count": 5,
   "metadata": {},
   "outputs": [
    {
     "data": {
      "text/plain": [
       "'Amazing'"
      ]
     },
     "execution_count": 5,
     "metadata": {},
     "output_type": "execute_result"
    }
   ],
   "source": [
    "welcome_list[-1]"
   ]
  },
  {
   "cell_type": "code",
   "execution_count": 27,
   "metadata": {},
   "outputs": [
    {
     "data": {
      "text/plain": [
       "'Amazing'"
      ]
     },
     "execution_count": 27,
     "metadata": {},
     "output_type": "execute_result"
    }
   ],
   "source": [
    "welcome_list[-2]"
   ]
  },
  {
   "cell_type": "code",
   "execution_count": 28,
   "metadata": {},
   "outputs": [
    {
     "name": "stdout",
     "output_type": "stream",
     "text": [
      "['Welcome', 'to', 'Python', 'World.', \"It's\", 'Amazing', '2021']\n"
     ]
    }
   ],
   "source": [
    "print(welcome_list)"
   ]
  },
  {
   "cell_type": "code",
   "execution_count": 31,
   "metadata": {},
   "outputs": [
    {
     "name": "stdout",
     "output_type": "stream",
     "text": [
      "Welcome\n",
      "to\n",
      "Python\n",
      "World.\n",
      "It's\n",
      "Amazing\n",
      "2021\n",
      "class\n"
     ]
    }
   ],
   "source": [
    "for word in welcome_list:\n",
    "    print(word)"
   ]
  },
  {
   "cell_type": "markdown",
   "metadata": {},
   "source": [
    "### Convert individual words in the list to a string\n",
    "a string is also an object, using the join method to connect all the words in the list"
   ]
  },
  {
   "cell_type": "code",
   "execution_count": 32,
   "metadata": {},
   "outputs": [],
   "source": [
    "welcome_sentence = ' '.join(welcome_list)"
   ]
  },
  {
   "cell_type": "code",
   "execution_count": 33,
   "metadata": {},
   "outputs": [
    {
     "name": "stdout",
     "output_type": "stream",
     "text": [
      "Welcome to Python World. It's Amazing 2021 class\n"
     ]
    }
   ],
   "source": [
    "print(welcome_sentence)"
   ]
  },
  {
   "cell_type": "code",
   "execution_count": null,
   "metadata": {},
   "outputs": [],
   "source": [
    "'2'"
   ]
  },
  {
   "cell_type": "markdown",
   "metadata": {},
   "source": [
    "* slicing string by indices"
   ]
  },
  {
   "cell_type": "code",
   "execution_count": 35,
   "metadata": {},
   "outputs": [
    {
     "data": {
      "text/plain": [
       "'Welcome to Python Wo'"
      ]
     },
     "execution_count": 35,
     "metadata": {},
     "output_type": "execute_result"
    }
   ],
   "source": [
    "welcome_sentence[0:20]"
   ]
  },
  {
   "cell_type": "markdown",
   "metadata": {},
   "source": [
    "* see other methods of string object"
   ]
  },
  {
   "cell_type": "code",
   "execution_count": 9,
   "metadata": {},
   "outputs": [],
   "source": [
    "welcome_upper_case = welcome_sentence.upper()"
   ]
  },
  {
   "cell_type": "code",
   "execution_count": 10,
   "metadata": {},
   "outputs": [
    {
     "name": "stdout",
     "output_type": "stream",
     "text": [
      "WELCOME TO PYTHON WORLD. IT'S AMAZING\n"
     ]
    }
   ],
   "source": [
    "print(welcome_upper_case)"
   ]
  },
  {
   "cell_type": "code",
   "execution_count": 37,
   "metadata": {},
   "outputs": [
    {
     "name": "stdout",
     "output_type": "stream",
     "text": [
      "welcome to python world. it's amazing\n"
     ]
    }
   ],
   "source": [
    "welcome_lower_case = welcome_upper_case.lower()\n",
    "print(welcome_lower_case)"
   ]
  },
  {
   "cell_type": "code",
   "execution_count": 39,
   "metadata": {},
   "outputs": [],
   "source": [
    "natr_language = ['English', 'German', 'Chinese']\n",
    "prog_language = ['C++', 'Java', 'C#']"
   ]
  },
  {
   "cell_type": "code",
   "execution_count": 40,
   "metadata": {},
   "outputs": [
    {
     "name": "stdout",
     "output_type": "stream",
     "text": [
      "0 English\n",
      "1 German\n",
      "2 Chinese\n"
     ]
    }
   ],
   "source": [
    "for idx, item in enumerate(natr_language):\n",
    "    print(idx,item)"
   ]
  },
  {
   "cell_type": "code",
   "execution_count": 41,
   "metadata": {},
   "outputs": [
    {
     "name": "stdout",
     "output_type": "stream",
     "text": [
      "0 C++\n",
      "1 Java\n",
      "2 C#\n"
     ]
    }
   ],
   "source": [
    "for idx, item in enumerate(prog_language):\n",
    "    print(idx,item)"
   ]
  },
  {
   "cell_type": "code",
   "execution_count": 14,
   "metadata": {},
   "outputs": [
    {
     "data": {
      "text/plain": [
       "3"
      ]
     },
     "execution_count": 14,
     "metadata": {},
     "output_type": "execute_result"
    }
   ],
   "source": [
    "len(natr_language)  #how many elements in a list?"
   ]
  },
  {
   "cell_type": "code",
   "execution_count": 15,
   "metadata": {},
   "outputs": [
    {
     "data": {
      "text/plain": [
       "7"
      ]
     },
     "execution_count": 15,
     "metadata": {},
     "output_type": "execute_result"
    }
   ],
   "source": [
    "len(natr_language[0]) # how many elements in a string?"
   ]
  },
  {
   "cell_type": "code",
   "execution_count": 49,
   "metadata": {},
   "outputs": [
    {
     "name": "stdout",
     "output_type": "stream",
     "text": [
      "['English', 'German', 'Chinese', 'Spanish']\n"
     ]
    }
   ],
   "source": [
    "#natr_language.append('Spanish')\n",
    "natr_language.remove('Spanish')\n",
    "print(natr_language)\n"
   ]
  },
  {
   "cell_type": "code",
   "execution_count": 54,
   "metadata": {},
   "outputs": [
    {
     "name": "stdout",
     "output_type": "stream",
     "text": [
      "['R', 'R', 'Python', 'C++', 'R', 'Java', 'C#', ['python 2.7', 'python 3.6']]\n"
     ]
    }
   ],
   "source": [
    "prog_language.insert(4, 'R')\n",
    "print(prog_language)"
   ]
  },
  {
   "cell_type": "code",
   "execution_count": 56,
   "metadata": {},
   "outputs": [
    {
     "name": "stdout",
     "output_type": "stream",
     "text": [
      "['C++', 'Java', 'C#', ['python 2.7', 'python 3.6']]\n"
     ]
    }
   ],
   "source": [
    "python = ['python 2.7', 'python 3.6']\n",
    "prog_language = ['C++', 'Java', 'C#']\n",
    "prog_language.append(python)  # ['Python', 'C++', 'Java', 'C#', ['python 2.7', 'python 3.6']]\n",
    "print(prog_language)"
   ]
  },
  {
   "cell_type": "code",
   "execution_count": 61,
   "metadata": {},
   "outputs": [
    {
     "name": "stdout",
     "output_type": "stream",
     "text": [
      "['English', 'German', 'Chinese', 'Japanese', 'Korean']\n",
      "['English', 'German', 'Chinese', ['Japanese', 'Korean']]\n",
      "['English', 'German', 'Chinese']\n"
     ]
    }
   ],
   "source": [
    "more_language = ['Japanese', 'Korean']\n",
    "natr_language = ['English', 'German', 'Chinese']\n",
    "natr_language.extend(more_language)  # ['English', 'German', 'Chinese', 'Spanish', 'Japanese', 'Korean']\n",
    "print(natr_language)\n",
    "natr_language = ['English', 'German', 'Chinese']\n",
    "natr_language.append(more_language)\n",
    "print(natr_language)\n",
    "natr_language.remove(more_language)\n",
    "print(natr_language)"
   ]
  },
  {
   "cell_type": "code",
   "execution_count": 60,
   "metadata": {},
   "outputs": [],
   "source": [
    "prog_language.remove(python) # remove elements"
   ]
  },
  {
   "cell_type": "code",
   "execution_count": 21,
   "metadata": {},
   "outputs": [
    {
     "name": "stdout",
     "output_type": "stream",
     "text": [
      "0. English\n",
      "1. German\n",
      "2. Chinese\n",
      "3. Spanish\n",
      "4. Japanese\n",
      "5. Korean\n",
      "6. Japanese\n",
      "7. Korean\n",
      "8. Japanese\n",
      "9. Korean\n"
     ]
    }
   ],
   "source": [
    "# iterate in list with index\n",
    "for num, lang in enumerate(natr_language):\n",
    "    print(f'{num}. {lang}')"
   ]
  },
  {
   "cell_type": "markdown",
   "metadata": {},
   "source": [
    "## tuple and set\n",
    "tuple is very alike list, but tuple is immutable"
   ]
  },
  {
   "cell_type": "code",
   "execution_count": null,
   "metadata": {},
   "outputs": [],
   "source": [
    "person_list = ['Jon Dow', '06-04-2000', 'Male', 'U.S.A']\n",
    "person_tuple = ('Jon Dow', '06-04-2000', 'Male', 'U.S.A')\n",
    "person_list[0] = 'Allan Lee'  # ['Allan Lee', '06-04-2000', 'Male', 'U.S.A']\n",
    "person_tuple[0] = 'Allan Lee'  # tuple' object does not support item assignment"
   ]
  },
  {
   "cell_type": "code",
   "execution_count": 22,
   "metadata": {},
   "outputs": [],
   "source": [
    "set_1 = {'China', 'Korea', 'Japan', 'Turkey', 'Singapore', 'Russia', 'Japan'}\n",
    "set_2 = {'UK', 'Germany', 'France', 'Spain', 'Italy', 'Russia', 'Turkey'}"
   ]
  },
  {
   "cell_type": "markdown",
   "metadata": {},
   "source": [
    "## Dictionary\n",
    "Like a real dictionary, dict type is form by 2 parts, a unique key and values for a key\n",
    "created by *curly brackets*"
   ]
  },
  {
   "cell_type": "code",
   "execution_count": 62,
   "metadata": {},
   "outputs": [
    {
     "name": "stdout",
     "output_type": "stream",
     "text": [
      "Anna\n",
      "female\n"
     ]
    }
   ],
   "source": [
    "# initial a dict (key,value) pair\n",
    "profile = {'name': 'Anna', 'birth': '10-05-2000', 'gender': 'female', 'height': 1.70}\n",
    "# find the value by using the key\n",
    "print(profile['name'])  # 'Anna'\n",
    "print(profile['gender'])"
   ]
  },
  {
   "cell_type": "code",
   "execution_count": 67,
   "metadata": {},
   "outputs": [
    {
     "name": "stdout",
     "output_type": "stream",
     "text": [
      "['name', 'birth', 'gender', 'height']\n"
     ]
    }
   ],
   "source": [
    "profile.keys()\n",
    "keys=list(profile.keys())\n",
    "print(keys)"
   ]
  },
  {
   "cell_type": "code",
   "execution_count": 68,
   "metadata": {},
   "outputs": [
    {
     "name": "stdout",
     "output_type": "stream",
     "text": [
      "['Anna', '10-05-2000', 'female', 1.7]\n"
     ]
    }
   ],
   "source": [
    "profile.values()\n",
    "values=list(profile.values())\n",
    "print(values)"
   ]
  },
  {
   "cell_type": "code",
   "execution_count": 65,
   "metadata": {},
   "outputs": [
    {
     "data": {
      "text/plain": [
       "dict_items([('name', 'Anna'), ('birth', '10-05-2000'), ('gender', 'female'), ('height', 1.7)])"
      ]
     },
     "execution_count": 65,
     "metadata": {},
     "output_type": "execute_result"
    }
   ],
   "source": [
    "profile.items()"
   ]
  },
  {
   "cell_type": "code",
   "execution_count": 25,
   "metadata": {},
   "outputs": [
    {
     "name": "stdout",
     "output_type": "stream",
     "text": [
      "['name', 'birth', 'gender', 'height']\n"
     ]
    }
   ],
   "source": [
    "# get all the keys and put into a list\n",
    "keys = list(profile.keys())  # ['name', 'birth', 'gender', 'height']\n",
    "# get all values and put into a list\n",
    "values = list(profile.values())  # ['Anna', '10-05-2000', 'female', 1.7]\n",
    "# get all key-value pairs and put into a list\n",
    "key_value = list(profile.items())\n",
    "print(keys)"
   ]
  },
  {
   "cell_type": "code",
   "execution_count": 70,
   "metadata": {},
   "outputs": [
    {
     "name": "stdout",
     "output_type": "stream",
     "text": [
      "{'name': 'Anna', 'birth': '10-05-2000', 'gender': 'female', 'height': 1.7}\n",
      "{'name': 'Anna', 'birth': '10-05-2000', 'gender': 'female', 'height': 1.7, 'weight': 55}\n"
     ]
    }
   ],
   "source": [
    "print(profile)\n",
    "# add a key with value\n",
    "profile['weight'] = 55\n",
    "print(profile)"
   ]
  },
  {
   "cell_type": "code",
   "execution_count": 71,
   "metadata": {},
   "outputs": [
    {
     "name": "stdout",
     "output_type": "stream",
     "text": [
      "{'name': 'Yoki', 'birth': '01-10-2001', 'gender': 'female', 'height': 1.7, 'weight': 55, 'tel': '123-312'}\n"
     ]
    }
   ],
   "source": [
    "\n",
    "# change value of a key\n",
    "profile['name'] = 'Yoki'\n",
    "# alter multiple keys and values at a time\n",
    "profile.update({'birth': '01-10-2001', 'tel': '123-312'})\n",
    "print(profile)"
   ]
  },
  {
   "cell_type": "code",
   "execution_count": 72,
   "metadata": {},
   "outputs": [
    {
     "name": "stdout",
     "output_type": "stream",
     "text": [
      "name: Yoki\n",
      "birth: 01-10-2001\n",
      "gender: female\n",
      "height: 1.7\n",
      "weight: 55\n",
      "tel: 123-312\n"
     ]
    }
   ],
   "source": [
    "# loop with key and vlaue\n",
    "for key, value in profile.items():\n",
    "    print(f'{key}: {value}')"
   ]
  },
  {
   "cell_type": "code",
   "execution_count": null,
   "metadata": {},
   "outputs": [],
   "source": []
  }
 ],
 "metadata": {
  "kernelspec": {
   "display_name": "Python 3",
   "language": "python",
   "name": "python3"
  },
  "language_info": {
   "codemirror_mode": {
    "name": "ipython",
    "version": 3
   },
   "file_extension": ".py",
   "mimetype": "text/x-python",
   "name": "python",
   "nbconvert_exporter": "python",
   "pygments_lexer": "ipython3",
   "version": "3.6.8"
  }
 },
 "nbformat": 4,
 "nbformat_minor": 2
}
